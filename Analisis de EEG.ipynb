{
 "cells": [
  {
   "cell_type": "markdown",
   "id": "89c2c878",
   "metadata": {},
   "source": [
    "# Ánalisis de datos de Electroencefalograma"
   ]
  },
  {
   "cell_type": "markdown",
   "id": "81bb0223",
   "metadata": {},
   "source": [
    "## Secciones del código\n",
    "1. El primer recuadro lo que hace es cargar las funciones necesarias para el correcto funcionamiento del cuaderno y cargar el módulo donde están todas las funciones necesarias\n",
    "1. En el segundo recuadro pide la dirección del archivo, crea una carpeta para almacenar los resultados del análisis y obtiene las variables y datos ya proporcionados por el documento que se está analizando\n",
    "1. El tercer recuadro es el más complejo ya que ahí comienza el análisis y obtiene muchos resultados, entre ellos:\n",
    "    1. Array con los datos del voltaje en cada canal en cada punto temporal del registro\n",
    "    1. Resultado de realizar el _Current Source Density Analysis_\n",
    "    1. Ubicaciones de los centros de masa en cada punto del tiempo\n",
    "    1. Descripción de las trayectorias de los centros de masa ( En coordenadas cartesianas y polares )\n",
    "1. El cuarto recuadro realiza una conversión de los datos a otro formato necesario para la graficación posterior y da distintos parametros para las mismas\n",
    "1. En el quinto recuadro genera una imagen del registro en todo el tiempo que dura el archivo\n",
    "1. La sexta sección genera Gif's donde muestra el _CSDA_ realizado y las trayectorias de los centros de masa\n",
    "1. En la última parte será la visualización gráfica de todos los resultados obtenidos y visualizables, entre ellos:\n",
    "    1. Topograma de la actividad de corriente en toda la región\n",
    "    1. Registro del voltaje registrado en cada canal\n",
    "    1. Trayectorias de los centros de masa en coordenadas polares\n",
    "    1. _CSDA_ registrado en cada canal con formato de array\n",
    "> En la última gráfica poseé cada sección un temporizador que marca el tiempo desde que se inició el experimento"
   ]
  },
  {
   "cell_type": "code",
   "execution_count": 1,
   "id": "7ad3e968",
   "metadata": {
    "scrolled": true
   },
   "outputs": [
    {
     "name": "stderr",
     "output_type": "stream",
     "text": [
      "\u001b[36m\u001b[1m[ \u001b[22m\u001b[39m\u001b[36m\u001b[1mInfo: \u001b[22m\u001b[39mPrecompiling Funciones_EEG [top-level]\n"
     ]
    }
   ],
   "source": [
    "import JLD.load\n",
    "import JLD.save\n",
    "import DelimitedFiles.readdlm\n",
    "using Plots\n",
    "using Suppressor\n",
    "push!(LOAD_PATH, \".\")\n",
    "using Funciones_EEG"
   ]
  },
  {
   "cell_type": "code",
   "execution_count": 7,
   "id": "74842c4e",
   "metadata": {},
   "outputs": [],
   "source": [
    "#-------------------------------------------------------------------------------------------------------------#\n",
    "# Aquí se da la dirección donde está el archivo a trabajar\n",
    "Direccion = \"/home/angel/Documents/Datos/Puebla_Records/derek_20_jun_2023/derek2_230620000d_open.dat\";\n",
    "Dir = split( Direccion,\".\")[1];\n",
    "Archivo = split(basename(Direccion),\".\")[1];\n",
    "Datos = readdlm( Direccion );\n",
    "ruta_resultados = joinpath(Dir * \"_Resultados\" );\n",
    "mkpath( ruta_resultados );\n",
    "#-------------------------------------------------------------------------------------------------------------#\n",
    "Vars = VarsDeDoc(Datos);\n",
    "NomVar = Archivo*\"_Vars.jld\";\n",
    "ruta_archivo = joinpath( ruta_resultados , NomVar );\n",
    "save( ruta_archivo , Vars )\n",
    "Headers , Canales = DatosDeTodos( Datos , 9 , 15 );"
   ]
  },
  {
   "cell_type": "code",
   "execution_count": null,
   "id": "38effddf",
   "metadata": {},
   "outputs": [],
   "source": []
  },
  {
   "cell_type": "code",
   "execution_count": 8,
   "id": "d27ed079",
   "metadata": {},
   "outputs": [],
   "source": [
    "#-------------------------------------------------------------------------------------------------------------#\n",
    "Coordenadas , lados , Prohibidas = Coordenadas_Y_Lados( OrdenMaximo , Headers );\n",
    "elementos = [ -1 0 1 ]\n",
    "combs = COMS(elementos);\n",
    "#-------------------------------------------------------------------------------------------------------------#\n",
    "MVCuadComp = ArrayParaHeatmap( lados , Canales , Prohibidas , Coordenadas );\n",
    "NomCuad = Archivo*\"_DatosEnCuadrado.jld\"\n",
    "ruta_archivo = joinpath( ruta_resultados , NomCuad )\n",
    "save( ruta_archivo , \"MVCuacComp\" , MVCuadComp )\n",
    "#-------------------------------------------------------------------------------------------------------------#\n",
    "MVYPromedios = PromVacios( Prohibidas , Coordenadas , combs , Headers , Canales , MVCuadComp );\n",
    "MVcsda = CSDAZapfe( MVYPromedios );\n",
    "NomCSDA = Archivo*\"_CSDA.jld\";\n",
    "ruta_archivo = joinpath( ruta_resultados , NomCSDA );\n",
    "MVcsdaListo = EliminaProhibidas( MVcsda , Prohibidas , Coordenadas );\n",
    "save( ruta_archivo , \"MVcsda\" , MVcsda )\n",
    "#-------------------------------------------------------------------------------------------------------------#\n",
    "CMP , CMN = CentrosDeMasa( MVcsdaListo , 0.5 );\n",
    "NomCM = Archivo*\"_CM.jld\";\n",
    "ruta_archivo = joinpath( ruta_resultados , NomCM );\n",
    "save( ruta_archivo , \"CMP\" , CMP , \"CMN\" , CMN )\n",
    "#-------------------------------------------------------------------------------------------------------------#\n",
    "( DistTol , TTol , Tmin ) = ( 1.5 , 3 , 3 )\n",
    "TraysPos = Dinamica_LV( CMP , DistTol , TTol , Tmin );\n",
    "TraysNeg = Dinamica_LV( CMN , DistTol , TTol , Tmin );\n",
    "NomTrays = Archivo*\"_Trayectorias.jld\";\n",
    "ruta_archivo = joinpath( ruta_resultados , NomTrays );\n",
    "save( ruta_archivo , \"TP\" , TraysPos , \"TN\" , TraysNeg )\n",
    "#-------------------------------------------------------------------------------------------------------------#\n",
    "( IniciosP , FinalesP ) = IniciosYFinales( TraysPos );\n",
    "( IniciosN , FinalesN ) = IniciosYFinales( TraysNeg );\n",
    "TraysPos = RellenaHuecos( TraysPos , IniciosP , FinalesP );\n",
    "TraysNeg = RellenaHuecos( TraysNeg , IniciosN , FinalesN );\n",
    "TraysPosP = ArreglaCoordenadas( TraysPos , lados );\n",
    "TraysNegP = ArreglaCoordenadas( TraysNeg , lados );\n",
    "NomTPs = Archivo*\"_TraysPolares.jld\"\n",
    "ruta_archivo = joinpath( ruta_resultados , NomTPs )\n",
    "save( ruta_archivo , \"TPP\" , TraysPosP , \"TNP\" , TraysNegP )"
   ]
  },
  {
   "cell_type": "code",
   "execution_count": 9,
   "id": "e291a89a",
   "metadata": {},
   "outputs": [],
   "source": [
    "pesos , CT , CoorCSDA = DatosParaTopograma( Coordenadas , Prohibidas , MVcsdaListo , lados );\n",
    "CTPs = [ :crimson , :brown3 , :red , :indianred3 , :coral3 , :indianred2 , :orangered4 , :red4 ];\n",
    "CTNs = [ :aqua , :cyan3 , :turquoise , :deepskyblue , :skyblue3 , :teal , :blue4 , :midnightblue ];\n",
    "( extra , PC , nd , longtray , fr ) = ( 1 , 15 , 2 , 5 , Vars[ \"Rate\" ] )\n",
    "# \"extra\"     Espacio extra para los máximos en las gráficas\n",
    "# \"PC\"        Cantidad de cachos propuesta \n",
    "# \"nd\"        Numero de digitos del maximo de cachos\n",
    "# \"longtray\"  Longitud de trayectoria en frame \n",
    "# \"fr\"        Frecuencia de muestreo\n",
    "( cachos , Bines ) = DivideAnimacion( PC , pesos );"
   ]
  },
  {
   "cell_type": "code",
   "execution_count": 10,
   "id": "dcbb2234",
   "metadata": {},
   "outputs": [],
   "source": [
    "@suppress begin\n",
    "    Registro = Registro_Completo( Headers , Canales , ruta_resultados )\n",
    "end"
   ]
  },
  {
   "cell_type": "code",
   "execution_count": 11,
   "id": "2c030f99",
   "metadata": {
    "scrolled": true
   },
   "outputs": [
    {
     "data": {
      "text/plain": [
       "\"El proceso terminó\""
      ]
     },
     "execution_count": 11,
     "metadata": {},
     "output_type": "execute_result"
    }
   ],
   "source": [
    "@suppress begin\n",
    "    TodosGIFS = Animaciones_Trays( extra , cachos , nd , longtray , fr , MVcsda , ruta_resultados , \n",
    "                                 IniciosP , FinalesP , TraysPosP , CT , IniciosN , FinalesN ,\n",
    "                                 TraysNegP , CTPs , CTNs , Bines , nothing , nothing , nothing )\n",
    "end"
   ]
  },
  {
   "cell_type": "code",
   "execution_count": 7,
   "id": "8fc47475",
   "metadata": {},
   "outputs": [
    {
     "data": {
      "text/plain": [
       "\"El proceso terminó\""
      ]
     },
     "execution_count": 7,
     "metadata": {},
     "output_type": "execute_result"
    }
   ],
   "source": [
    "#Se recomienda que solo se haga un bin a la vez ya que es muy pesado\n",
    "@suppress begin\n",
    "    Todos = Animaciones_Trays( extra , cachos , nd , longtray , fr , MVcsda , ruta_resultados , IniciosP , \n",
    "                            FinalesP , TraysPosP , CT, IniciosN , FinalesN , TraysNegP , CTPs, CTNs , Bines, \n",
    "                            Headers, Canales , pesos , CoorCSDA )\n",
    "end"
   ]
  },
  {
   "cell_type": "code",
   "execution_count": null,
   "id": "3df3906b",
   "metadata": {},
   "outputs": [],
   "source": []
  },
  {
   "cell_type": "code",
   "execution_count": null,
   "id": "da13da76",
   "metadata": {},
   "outputs": [],
   "source": []
  },
  {
   "cell_type": "code",
   "execution_count": null,
   "id": "9ac87eae",
   "metadata": {},
   "outputs": [],
   "source": []
  }
 ],
 "metadata": {
  "kernelspec": {
   "display_name": "Julia 1.9.2",
   "language": "julia",
   "name": "julia-1.9"
  },
  "language_info": {
   "file_extension": ".jl",
   "mimetype": "application/julia",
   "name": "julia",
   "version": "1.9.2"
  }
 },
 "nbformat": 4,
 "nbformat_minor": 5
}
